{
 "cells": [
  {
   "cell_type": "markdown",
   "metadata": {},
   "source": [
    "# Titanic - Projeto Final\n",
    "\n",
    "## Introdução\n",
    "\n",
    "\"O RMS Titanic foi um navio de passageiros britânico operado pela White Star Line e construído pelos estaleiros da Harland and Wolff em Belfast. Foi a segunda embarcação da Classe Olympic de transatlânticos depois do RMS Olympic e seguido pelo HMHS Britannic[...]\n",
    "\n",
    "A embarcação partiu em sua viagem inaugural /de Southampton para Nova Iorque em 10 de abril de 1912, no caminho passando em Cherbourg-Octeville na França e por Queenstown na Irlanda. Ele colidiu com um iceberg às 23h40min do dia 14 de abril e afundou na madrugada do dia seguinte com mais de 1 500 pessoas a bordo, sendo um dos maiores desastres marítimos em tempos de paz de toda a históri[...].\"  <[fonte](https://pt.wikipedia.org/wiki/RMS_Titanic)>\n",
    "\n",
    "Os dados que serão analisados são do titanic. O objetio deste realizar é realizar a análise de vitimas e fazer questionamentos em relação aos dados disponibilados pela udacity."
   ]
  },
  {
   "cell_type": "code",
   "execution_count": 10,
   "metadata": {},
   "outputs": [],
   "source": [
    "# Escreva aqui os imports, no mínimo você vai usar pandas, numpy e matplotlib \n",
    "# também pode-se usar outras bibliotecas se desejar.\n",
    "import pandas as pd\n",
    "import numpy as np\n",
    "import matplotlib.pyplot as plt\n",
    "\n",
    "# Não esqueça que para o matplotlib plotar a baixo da célula é precisa adicionar\n",
    "# o código especial.\n",
    "%matplotlib inline"
   ]
  },
  {
   "cell_type": "code",
   "execution_count": 11,
   "metadata": {},
   "outputs": [],
   "source": [
    "# Abra o arquivo CSV e mostre algumas linhas\n",
    "df_titanic = pd.read_csv('titanic-data-6.csv')"
   ]
  },
  {
   "cell_type": "markdown",
   "metadata": {},
   "source": [
    "## Perguntas\n",
    "\n",
    "Crie pelo menos cinto perguntas.\n",
    "Pelo menos três dessas perguntas devem ser compostas (a junção de duas ou mais colunas).\n",
    "\n",
    "**Exemplo**:\n",
    "- Qual a idade média dos sobreviventes da primeira classe que embarcaram em Cherbourg?\n",
    "\n",
    "- Das pessoas que posuiem cabine, quantas sobreviverias ?\n",
    "- Dos sobreviventes qual era a porcentagem de mulheres vivas ?\n",
    "- Dos passageiros embarcados por região, qual teve mais sobreviventes ?\n",
    "- Qual é a media de idade de sobreviventes ?\n",
    "- Qual é a classe das pessoas que sobreviveram ?\n",
    "\n",
    "Explique por que dessa pergunta, o que motivou ela."
   ]
  },
  {
   "cell_type": "markdown",
   "metadata": {},
   "source": [
    "## Limpeza dos dados\n",
    "\n",
    "Fale um pouco da limpeza, diga por que esta excluindo ou modificando algum valor.\n",
    "\n",
    "**Exemplo**:\n",
    "A coluna cabine esta sendo removida devido a impossibilidade de se utiliza-la na forma atual, com a falta de dados provavelmente apenas com machine learning seria possível definir as cabines corretas.\n",
    "```python\n",
    "df['cabin'].drop(...)\n",
    "```\n",
    "Faça a melhor limpeza o possível, caso não va usar algum dado remova-o, não esqueça do que pretende fazer com linhas nulas. Também aproveite esse ponto crie alguma função para a limpeza e alteração e tente utilizar _numpy_ nesse ponto.\n",
    "\n",
    "> **Dica**: Ao final do processo de limpeza salve seu csv com um nome diferente.\n",
    "```python\n",
    "df.to_csv('titanic_clean.csv', index=False)\n",
    "```\n",
    "Isso pode te poupar trabalho de toda vez ter de rodar a limpeza ao abrir o notebook."
   ]
  },
  {
   "cell_type": "code",
   "execution_count": 22,
   "metadata": {},
   "outputs": [],
   "source": [
    "# Realize a sua limpeza aqui, não esqueça de usar células markdown para explicar\n",
    "# o que esta fazendo.\n",
    "df_titanic.dropna(inplace=True, how='any')"
   ]
  },
  {
   "cell_type": "markdown",
   "metadata": {},
   "source": [
    "## Análise\n",
    "\n",
    "Fale um pouco do processo e forma que pretende analisar os dados, também use pelo menos dois tipos diferentes de gráficos.\n",
    "\n",
    "O site do matplotlib é cheio de exemplos que você pode seguir e usar em seu projeto. Também não é preciso se limitar apenas ao matplotlib, existem outras bibliotecas gráficas, um exemplo é o seaborn.\n",
    "\n",
    "Ao final de análisar cada dado e figura gerada faça uma explicação dos resultados respondendo a sua pergunta. Tente falar de forma simples mas completa."
   ]
  },
  {
   "cell_type": "code",
   "execution_count": null,
   "metadata": {},
   "outputs": [],
   "source": [
    "# Caso tenha criado um arquivo CSV limpo, faça a abertura e veja alguns dados dele a\n",
    "# partir dessa célula.\n",
    "\n",
    "df_titanic = pd.read_csv(...)"
   ]
  },
  {
   "cell_type": "markdown",
   "metadata": {},
   "source": [
    "## Respondendo\n",
    "### 1. Das pessoas que posuiem cabine, quantas sobreviverias ?"
   ]
  },
  {
   "cell_type": "code",
   "execution_count": 54,
   "metadata": {},
   "outputs": [
    {
     "name": "stdout",
     "output_type": "stream",
     "text": [
      "143 73\n"
     ]
    }
   ],
   "source": [
    "# Suas analises a partir daqui.\n",
    "# df_titanic['Victims'] = df_titanic['Survived'].map({0:1,1:0})\n",
    "# df_titanic.query('Survived == 1')['Cabin']\n",
    "vivos = df_titanic.query('Survived == 1')['Cabin'].map(lambda x: len(x.split())).sum()\n",
    "mortos = df_titanic.query('Survived == 0')['Cabin'].map(lambda x: len(x.split())).sum()\n",
    "print(vivos,mortos)"
   ]
  },
  {
   "cell_type": "code",
   "execution_count": 3,
   "metadata": {},
   "outputs": [
    {
     "data": {
      "image/png": "[encoded data removed]",
      "text/plain": [
       "<Figure size 432x288 with 1 Axes>"
      ]
     },
     "metadata": {
      "needs_background": "light"
     },
     "output_type": "display_data"
    }
   ],
   "source": [
    "# Exemplo de um gráfico de barras com valores multiplos\n",
    "masculino = [11, 13, 30] # contagem de homens entre (criança, adolescente e adulto)\n",
    "feminino = [7, 16, 45] # contagem de mulheres entre (criança, adolescente e adulto)\n",
    "categoria = ['criança', 'adolescente', 'adulto']\n",
    "\n",
    "pos = np.arange(3) # posições das barras\n",
    "tam = .35 # distancia das barras.\n",
    "\n",
    "fig, ax = plt.subplots() # para plotar vários gráficos em uma mesma figura.\n",
    "# Ambos os plots seguem a mesma ideia, a posição da barra é dada pelo primeiro \n",
    "# argumento:\n",
    "# - para a barra ficar a esquerda do centro do tick em x\n",
    "# + para a barra ficar a direita do centro do tick em x.\n",
    "plt1 = ax.bar(pos-tam/2, masculino, tam, color='blue', label='Homem')\n",
    "plt2 = ax.bar(pos+tam/2, feminino, tam, color='red', label='Feminino')\n",
    "\n",
    "# Quando se usa axes você deve usar a axe criada para adicionar titulos e rótulos.\n",
    "ax.set_title('Contagem de pessoas com sexo e categoria de idade')\n",
    "ax.set_xlabel('Cateogira de idade')\n",
    "ax.set_ylabel('Contagem de pessoas')\n",
    "\n",
    "# Define as posições dos ticks, pos é um array da seguinte forma [0, 1, 2]\n",
    "ax.set_xticks(pos) \n",
    "# rotation faz o angulo do texto girar em graism e ha diz qual ponto deve ser \n",
    "# alinhado o texto\n",
    "ax.set_xticklabels(categoria, rotation=45, ha='right') \n",
    "ax.legend(); # legend faz os labels se tornarem labels de legendas na figura. \n",
    "# Ponto e vírgula remove alguns dados de objeto que apareceriam normalmente \n",
    "# caso não o adiciona-se"
   ]
  },
  {
   "cell_type": "markdown",
   "metadata": {},
   "source": [
    "## Resultados\n",
    "Fale dos resultados que você encontrou de forma geral, não precisa explicar tudo de novo apenas fale de forma geral dando sequência aos resultados que você conseguiu, por exemplo:\n",
    "\n",
    "- Foi possível com a análise de x, y e z descobrir que a grande maioria dos sobreviventes foram mulheres da primeira classe devído a ...\n",
    "\n",
    "### Problemas encontrados\n",
    "\n",
    "Fale nesse tópico um pouco sobre problemas encontrados nos dados que te impediram de fazer algumas analises a mais, exemplo a ideia da cabine."
   ]
  },
  {
   "cell_type": "markdown",
   "metadata": {},
   "source": [
    "## Bibliografia\n",
    "\n",
    "Escreva os links que vocês usaram para escrever esse projeto."
   ]
  },
  {
   "cell_type": "code",
   "execution_count": null,
   "metadata": {},
   "outputs": [],
   "source": []
  }
 ],
 "metadata": {
  "kernelspec": {
   "display_name": "Python 3",
   "language": "python",
   "name": "python3"
  },
  "language_info": {
   "codemirror_mode": {
    "name": "ipython",
    "version": 3
   },
   "file_extension": ".py",
   "mimetype": "text/x-python",
   "name": "python",
   "nbconvert_exporter": "python",
   "pygments_lexer": "ipython3",
   "version": "3.7.1"
  }
 },
 "nbformat": 4,
 "nbformat_minor": 2
}
